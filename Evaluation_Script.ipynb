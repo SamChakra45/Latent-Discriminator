{
 "cells": [
  {
   "cell_type": "code",
   "execution_count": null,
   "metadata": {},
   "outputs": [],
   "source": [
    "import joblib\n",
    "import pandas as pd\n",
    "from sklearn.feature_extraction.text import CountVectorizer\n",
    "from sklearn.metrics import accuracy_score, precision_score, recall_score, f1_score, confusion_matrix\n",
    "\n",
    "def evaluate_model(test_csv_path):\n",
    "    # Load the model \n",
    "    model = joblib.load(\"Model.pkl\")\n",
    "\n",
    "    # Print model coefficients (weights for each feature)\n",
    "    print(\"Model Coefficients (Feature Weights):\")\n",
    "    print(model.coef_)\n",
    "    \n",
    "    # Print intercept (bias term)\n",
    "    print(\"\\nModel Intercept:\")\n",
    "    print(model.intercept_)\n",
    "\n",
    "    vectorizer = CountVectorizer()\n",
    "\n",
    "    # Load test data\n",
    "    df = pd.read_csv(test_csv_path)\n",
    "    df = df.iloc[:, :2]  \n",
    "    df.columns = [\"label\", \"text\"]\n",
    "\n",
    "    # Convert labels to binary\n",
    "    df['label'] = df['label'].map({'ham': 0, 'spam': 1})\n",
    "\n",
    "    # Transform test data using the pre-trained vectorizer library\n",
    "    X_test_bow = vectorizer.transform(df['text'])\n",
    "    y_test = df['label']\n",
    "\n",
    "    # Make predictions\n",
    "    y_pred = model.predict(X_test_bow)\n",
    "\n",
    "    # Calculate evaluation metrics\n",
    "    accuracy = accuracy_score(y_test, y_pred)\n",
    "    precision = precision_score(y_test, y_pred)\n",
    "    recall = recall_score(y_test, y_pred)\n",
    "    f1 = f1_score(y_test, y_pred)\n",
    "\n",
    "    # Print results\n",
    "    print(f\"Accuracy: {accuracy:.4f}\")\n",
    "    print(f\"Precision: {precision:.4f}\")\n",
    "    print(f\"Recall: {recall:.4f}\")\n",
    "    print(f\"F1-Score: {f1:.4f}\")\n",
    "\n",
    "    # Compute and print confusion matrix\n",
    "    conf_matrix = confusion_matrix(y_test, y_pred)\n",
    "    print(\"Confusion Matrix:\")\n",
    "    print(conf_matrix)\n",
    "\n",
    "# Example usage:\n",
    "evaluate_model(\"Test Data.csv\")  # Replace with the test dataset path\n"
   ]
  }
 ],
 "metadata": {
  "kernelspec": {
   "display_name": "tf-gpu",
   "language": "python",
   "name": "python3"
  },
  "language_info": {
   "codemirror_mode": {
    "name": "ipython",
    "version": 3
   },
   "file_extension": ".py",
   "mimetype": "text/x-python",
   "name": "python",
   "nbconvert_exporter": "python",
   "pygments_lexer": "ipython3",
   "version": "3.9.12"
  }
 },
 "nbformat": 4,
 "nbformat_minor": 2
}
