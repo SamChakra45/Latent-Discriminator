{
 "cells": [
  {
   "cell_type": "code",
   "execution_count": null,
   "metadata": {
    "execution": {
     "iopub.execute_input": "2025-03-31T13:28:59.196665Z",
     "iopub.status.busy": "2025-03-31T13:28:59.196251Z",
     "iopub.status.idle": "2025-03-31T13:28:59.376648Z",
     "shell.execute_reply": "2025-03-31T13:28:59.375531Z",
     "shell.execute_reply.started": "2025-03-31T13:28:59.196633Z"
    },
    "trusted": true
   },
   "outputs": [
    {
     "name": "stdout",
     "output_type": "stream",
     "text": [
      "Accuracy: 0.9843\n",
      "Precision: 0.9485\n",
      "Recall: 0.9109\n",
      "F1-Score: 0.9293\n",
      "Confusion Matrix:\n",
      "[[786   5]\n",
      " [  9  92]]\n"
     ]
    }
   ],
   "source": [
    "import pandas as pd\n",
    "from sklearn.feature_extraction.text import CountVectorizer\n",
    "from sklearn.model_selection import train_test_split\n",
    "from sklearn.linear_model import LogisticRegression\n",
    "from sklearn.metrics import accuracy_score, confusion_matrix, precision_score, recall_score, f1_score\n",
    "\n",
    "# Load CSV file and inspect columns\n",
    "df = pd.read_csv(\"Training Data.csv\")\n",
    "df = df.iloc[:, :2]  \n",
    "df.columns = [\"label\", \"text\"]\n",
    "\n",
    "# Convert labels to binary (assuming 'ham' and 'spam')\n",
    "df['label'] = df['label'].map({'ham': 0, 'spam': 1})\n",
    "\n",
    "# Split dataset\n",
    "X_train, X_test, y_train, y_test = train_test_split(df['text'], df['label'], test_size=0.2)\n",
    "\n",
    "# Convert text data to bag-of-words representation\n",
    "vectorizer = CountVectorizer()\n",
    "X_train_bow = vectorizer.fit_transform(X_train)\n",
    "X_test_bow = vectorizer.transform(X_test)\n",
    "\n",
    "# Apply class weights to penalize false negatives (increase weight for spam class)\n",
    "class_weights = {0: 1, 1: 2}  # Spam (1) gets a higher weight\n",
    "\n",
    "model = LogisticRegression(class_weight=class_weights, max_iter=2000)\n",
    "model.fit(X_train_bow, y_train)\n",
    "\n",
    "y_pred = model.predict(X_test_bow)\n",
    "\n",
    "# Evaluation\n",
    "accuracy = accuracy_score(y_test, y_pred)\n",
    "precision = precision_score(y_test, y_pred)\n",
    "recall = recall_score(y_test, y_pred)\n",
    "f1 = f1_score(y_test, y_pred)\n",
    "\n",
    "print(f\"Accuracy: {accuracy:.4f}\")\n",
    "print(f\"Precision: {precision:.4f}\")\n",
    "print(f\"Recall: {recall:.4f}\")  \n",
    "print(f\"F1-Score: {f1:.4f}\")\n",
    "\n",
    "# Compute and print confusion matrix\n",
    "conf_matrix = confusion_matrix(y_test, y_pred)\n",
    "print(\"Confusion Matrix:\")\n",
    "print(conf_matrix)\n"
   ]
  },
  {
   "cell_type": "code",
   "execution_count": null,
   "metadata": {
    "execution": {
     "iopub.execute_input": "2025-03-31T13:30:45.933865Z",
     "iopub.status.busy": "2025-03-31T13:30:45.933463Z",
     "iopub.status.idle": "2025-03-31T13:30:45.983054Z",
     "shell.execute_reply": "2025-03-31T13:30:45.982164Z",
     "shell.execute_reply.started": "2025-03-31T13:30:45.933836Z"
    },
    "trusted": true
   },
   "outputs": [
    {
     "name": "stdout",
     "output_type": "stream",
     "text": [
      "Model and vectorizer saved successfully.\n"
     ]
    }
   ],
   "source": [
    "import joblib\n",
    "\n",
    "# Save the trained model\n",
    "joblib.dump(model, \"Model.pkl\")\n",
    "\n",
    "print(\"Model saved successfully.\")\n"
   ]
  }
 ],
 "metadata": {
  "kaggle": {
   "accelerator": "none",
   "dataSources": [
    {
     "datasetId": 6602720,
     "sourceId": 10661754,
     "sourceType": "datasetVersion"
    }
   ],
   "dockerImageVersionId": 30839,
   "isGpuEnabled": false,
   "isInternetEnabled": true,
   "language": "python",
   "sourceType": "notebook"
  },
  "kernelspec": {
   "display_name": "Python 3",
   "language": "python",
   "name": "python3"
  },
  "language_info": {
   "codemirror_mode": {
    "name": "ipython",
    "version": 3
   },
   "file_extension": ".py",
   "mimetype": "text/x-python",
   "name": "python",
   "nbconvert_exporter": "python",
   "pygments_lexer": "ipython3",
   "version": "3.10.12"
  }
 },
 "nbformat": 4,
 "nbformat_minor": 4
}
